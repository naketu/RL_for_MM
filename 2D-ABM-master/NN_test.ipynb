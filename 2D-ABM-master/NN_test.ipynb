{
 "cells": [
  {
   "cell_type": "code",
   "execution_count": 1,
   "id": "a37f0be0-0f73-4708-aee6-071fa56c9b32",
   "metadata": {},
   "outputs": [],
   "source": [
    "import pandas as pd\n",
    "import numpy as np\n",
    "import matplotlib.pyplot as plt\n",
    "import seaborn as sns\n",
    "\n",
    "from tqdm.notebook import tqdm\n",
    "from tqdm import tqdm\n",
    "from tqdm import trange\n",
    "\n",
    "from sklearn.model_selection import train_test_split\n",
    "from sklearn.linear_model import LogisticRegression\n",
    "from sklearn.metrics import accuracy_score\n",
    "from sklearn.metrics import confusion_matrix\n",
    "from sklearn.metrics import recall_score\n",
    "from sklearn.metrics import ConfusionMatrixDisplay\n",
    "\n",
    "import random"
   ]
  },
  {
   "cell_type": "code",
   "execution_count": 2,
   "id": "bad6f092-bce8-418d-bef1-7b4f5c5cee39",
   "metadata": {},
   "outputs": [],
   "source": [
    "from AgentBasedModel import *\n",
    "from AgentBasedModel.extra import *\n",
    "from AgentBasedModel.visualization import *\n",
    "from AgentBasedModel.visualization.other import plot_book\n",
    "from AgentBasedModel.visualization.other import plot_full_book\n",
    "from AgentBasedModel.visualization.trader import *\n",
    "from random import randint"
   ]
  },
  {
   "cell_type": "code",
   "execution_count": 3,
   "id": "a6f71528-6cde-4da1-bfc9-23586b436949",
   "metadata": {},
   "outputs": [],
   "source": [
    "more_market_agents=[40, 40, 40, 1]"
   ]
  },
  {
   "cell_type": "code",
   "execution_count": 44,
   "id": "dd4f4630-9371-4596-a74c-52cfbcc93719",
   "metadata": {},
   "outputs": [],
   "source": [
    "run utils_nikita//functions.ipynb"
   ]
  },
  {
   "cell_type": "code",
   "execution_count": null,
   "id": "b0d3391f-68e7-41b4-8f4e-1ed1151f35e4",
   "metadata": {},
   "outputs": [],
   "source": []
  },
  {
   "cell_type": "code",
   "execution_count": null,
   "id": "59af0482-13ac-4e37-a2ac-41ec4a8afb86",
   "metadata": {},
   "outputs": [],
   "source": []
  },
  {
   "cell_type": "markdown",
   "id": "44197a3b-21be-457e-b873-9232ffa14497",
   "metadata": {
    "jp-MarkdownHeadingCollapsed": true
   },
   "source": [
    "# Download data - no LOB"
   ]
  },
  {
   "cell_type": "code",
   "execution_count": 74,
   "id": "6d6451dc-ac93-4ee3-bec5-8942ae4c1c80",
   "metadata": {},
   "outputs": [],
   "source": [
    "all_data_names = ['huge_data', 'huge_data_no_mm', 'huge_data_undervalued', 'huge_data_undervalued_no_mm']\n",
    "\n",
    "cur_df = pd.read_csv(f'generated_data/{all_data_names[0]}')\n",
    "\n",
    "separation_column = []\n",
    "\n",
    "for i in range(cur_df.shape[0]//250):\n",
    "    separation_column += [i] * 250"
   ]
  },
  {
   "cell_type": "code",
   "execution_count": 75,
   "id": "5997afef-3588-4dab-9be7-5dab3f496ffb",
   "metadata": {},
   "outputs": [],
   "source": [
    "enormous_data = {}\n",
    "\n",
    "for i in range(4):\n",
    "    current_division = []\n",
    "    cur_df = pd.read_csv(f'generated_data/{all_data_names[i]}').drop(['Unnamed: 0'], axis=1)\n",
    "    cur_df['sep_col'] = separation_column\n",
    "    \n",
    "    for j in range(cur_df.shape[0] // 250):\n",
    "        current_division.append(cur_df[cur_df['sep_col'] == j].reset_index(drop=True).drop(['sep_col'], axis=1))\n",
    "    \n",
    "    \n",
    "    enormous_data[all_data_names[i]] = current_division"
   ]
  },
  {
   "cell_type": "code",
   "execution_count": 76,
   "id": "1fbe5abb-5011-4868-aed5-a8fc10d6f50e",
   "metadata": {},
   "outputs": [],
   "source": [
    "huge_data = enormous_data['huge_data']\n",
    "huge_data_no_mm = enormous_data['huge_data_no_mm']\n",
    "huge_data_undervalued = enormous_data['huge_data_undervalued']\n",
    "huge_data_undervalued_no_mm = enormous_data['huge_data_undervalued_no_mm']\n",
    "\n",
    "all_data = [huge_data, huge_data_no_mm, huge_data_undervalued, huge_data_undervalued_no_mm]"
   ]
  },
  {
   "cell_type": "markdown",
   "id": "2a0cc0ba-ac67-4300-932b-251cc8f78740",
   "metadata": {
    "jp-MarkdownHeadingCollapsed": true
   },
   "source": [
    "# Download data with LOB"
   ]
  },
  {
   "cell_type": "code",
   "execution_count": 5,
   "id": "b4d0885f-07e0-47e4-ba0c-5da0952f968c",
   "metadata": {},
   "outputs": [],
   "source": [
    "sim_n = 200\n",
    "iter_n = 250\n",
    "\n",
    "huge_data_bid = []\n",
    "huge_data_ask = []\n",
    "\n",
    "for i in range(sim_n):\n",
    "\n",
    "    bids_simulation = []\n",
    "    asks_simulation = []\n",
    "    \n",
    "    for j in range(iter_n):\n",
    "        cur_bid = pd.read_csv(f'data/huge_data/bids/sim_{i}_iter_{j + i * 250}.csv')\n",
    "        cur_ask = pd.read_csv(f'data/huge_data/asks/sim_{i}_iter_{j + i * 250}.csv')\n",
    "\n",
    "        bids_simulation.append(cur_bid)\n",
    "        asks_simulation.append(cur_ask)\n",
    "\n",
    "    huge_data_bid.append(bids_simulation)\n",
    "    huge_data_ask.append(asks_simulation)"
   ]
  },
  {
   "cell_type": "code",
   "execution_count": 13,
   "id": "6ea7364d-e679-49ef-b848-eedb18d8f2f8",
   "metadata": {},
   "outputs": [],
   "source": [
    "huge_data_features = pd.read_csv('data/huge_data/huge_data_features.csv')\n",
    "\n",
    "separation_column = []\n",
    "\n",
    "for i in range(huge_data_features.shape[0]//250):\n",
    "    separation_column += [i] * 250\n",
    "\n",
    "huge_data_features['sep_col'] = separation_column\n",
    "\n",
    "current_division = []\n",
    "\n",
    "for j in range(huge_data_features.shape[0] // 250):\n",
    "    current_division.append(huge_data_features[huge_data_features['sep_col'] == j].reset_index(drop=True).drop(['sep_col'], axis=1))\n",
    "\n",
    "new_huge_data_features = current_division"
   ]
  },
  {
   "cell_type": "markdown",
   "id": "8d980dda-1f41-4fda-88da-344efd8ee093",
   "metadata": {},
   "source": [
    "# NN classification"
   ]
  },
  {
   "cell_type": "code",
   "execution_count": 186,
   "id": "f0e2eca2-9ea5-4640-97f9-a0949f9f8e6d",
   "metadata": {
    "scrolled": true
   },
   "outputs": [],
   "source": [
    "# pip install torch"
   ]
  },
  {
   "cell_type": "code",
   "execution_count": 187,
   "id": "4ec25d4c-c6c6-4202-b494-94059484495a",
   "metadata": {},
   "outputs": [],
   "source": [
    "import torch\n",
    "from torch import nn\n",
    "from torch.utils.data import DataLoader"
   ]
  },
  {
   "cell_type": "markdown",
   "id": "0a971542-e252-42a7-b921-45f03ae42629",
   "metadata": {
    "jp-MarkdownHeadingCollapsed": true
   },
   "source": [
    "## Dataset functions"
   ]
  },
  {
   "cell_type": "code",
   "execution_count": 208,
   "id": "1efc2af2-acee-4d48-a1b7-aac2b0e08b1d",
   "metadata": {},
   "outputs": [],
   "source": [
    "class trainDataset():\n",
    "    def __init__(self, data_x, data_y, device=\"cuda\"):\n",
    "        self.data = data_x\n",
    "        self.device = device\n",
    "        self.labels = data_y\n",
    "        \n",
    "    def __getitem__(self, x):\n",
    "        data_x = self.data.iloc[x]\n",
    "        data_y = [self.labels.iloc[x]]\n",
    "        \n",
    "        data = torch.Tensor(data_x.values).to(self.device)\n",
    "        label = torch.Tensor(data_y).type(torch.LongTensor).to(self.device)\n",
    "        \n",
    "        return data, label\n",
    "    \n",
    "    def __len__(self):\n",
    "        return len(self.labels)"
   ]
  },
  {
   "cell_type": "code",
   "execution_count": 259,
   "id": "3afb8cf4-f5c3-4707-890e-797c99cc805e",
   "metadata": {},
   "outputs": [],
   "source": [
    "class trainDataset_w_LOB():\n",
    "    def __init__(self, data_x, data_y, min_iteration_indeces, max_iteration_indeces, \n",
    "                 data_bid, data_ask, iterations_length=250, device=\"cuda\"):\n",
    "        \n",
    "        self.data = data_x\n",
    "        self.device = device\n",
    "        self.labels = data_y\n",
    "        \n",
    "        self.bids = huge_data_bid\n",
    "        self.asks = huge_data_ask\n",
    "\n",
    "        self.min_iteration_indeces = min_iteration_indeces\n",
    "        self.max_iteration_indeces = max_iteration_indeces\n",
    "\n",
    "        self.iterations_length = iterations_length\n",
    "        #[0][min_iteration_indeces: max_iteration_indeces + 1]\n",
    "\n",
    "        # preparing bid and ask info\n",
    "\n",
    "        collected_bids = []\n",
    "        collected_asks = []\n",
    "\n",
    "        for i in range(len(self.bids)):\n",
    "            collected_bids = collected_bids + self.bids[i][self.min_iteration_indeces: self.max_iteration_indeces + 1]\n",
    "            collected_asks = collected_asks + self.asks[i][self.min_iteration_indeces: self.max_iteration_indeces + 1]\n",
    "\n",
    "        self.bids = collected_bids\n",
    "        self.asks = collected_asks\n",
    "\n",
    "        # print(len(self.labels), len(self.bids), len(self.asks))\n",
    "        \n",
    "    def __getitem__(self, x):\n",
    "        data_x = self.data.iloc[x]\n",
    "        data_y = [self.labels.iloc[x]]\n",
    "\n",
    "        data_bid = self.bids[x][['price', 'qty']]\n",
    "        data_ask = self.asks[x][['price', 'qty']]\n",
    "        \n",
    "        data = torch.Tensor(data_x.values).to(self.device)\n",
    "        label = torch.Tensor(data_y).type(torch.LongTensor).to(self.device)\n",
    "\n",
    "        data_bid = torch.Tensor(data_bid.values[:16]).to(self.device)\n",
    "        data_ask = torch.Tensor(data_ask.values[:16]).to(self.device)\n",
    "\n",
    "        data = data.unsqueeze(dim=-1)\n",
    "        \n",
    "        result = torch.cat((data.T, data_bid.T, data_ask.T))\n",
    "        result = result.reshape([result.shape[0] * result.shape[1]])\n",
    "        \n",
    "        return result, label\n",
    "    \n",
    "    def __len__(self):\n",
    "        return len(self.labels)"
   ]
  },
  {
   "cell_type": "markdown",
   "id": "1c99216a-eea0-4819-b13b-78ddfd27bc61",
   "metadata": {
    "jp-MarkdownHeadingCollapsed": true
   },
   "source": [
    "## NN Classifiers architectures"
   ]
  },
  {
   "cell_type": "code",
   "execution_count": 260,
   "id": "617738ff-e7a8-4377-a24b-cc3f96e245eb",
   "metadata": {},
   "outputs": [],
   "source": [
    "class LSTM_model(nn.Module):\n",
    "    def __init__(self):\n",
    "        super(LSTM_model, self).__init__()\n",
    "        self.lstm = nn.LSTM(17, 30, 3, batch_first=True)\n",
    "        self.linear = nn.Linear(17, 20)\n",
    "        self.linear2 = nn.Linear(20, 3)\n",
    "        self.sigmoid = nn.Sigmoid()\n",
    "        \n",
    "        self.relu = nn.ReLU()\n",
    "    \n",
    "    def forward(self, x):\n",
    "        \n",
    "        h_0 = torch.zeros(3, x.size(0), 30).requires_grad_().to(device)\n",
    "        c_0 = torch.zeros(3, x.size(0), 30).requires_grad_().to(device)\n",
    "        \n",
    "        output, (h_index, c_index) = self.lstm(x, (h_0, c_0))\n",
    "            \n",
    "        output = self.linear(output)\n",
    "        \n",
    "        output = self.relu(output)\n",
    "        \n",
    "        output = self.linear2(output)\n",
    "        \n",
    "        output = self.sigmoid(output)\n",
    "        \n",
    "        return output"
   ]
  },
  {
   "cell_type": "code",
   "execution_count": 261,
   "id": "b70d6cf7-7fce-42a9-860f-c91cee908b83",
   "metadata": {},
   "outputs": [],
   "source": [
    "class SimpleModel(nn.Module):\n",
    "    def __init__(self):\n",
    "        \n",
    "        super(SimpleModel, self).__init__()\n",
    "        \n",
    "        self.linear = nn.Linear(16, 30)\n",
    "        self.linear2 = nn.Linear(30, 20)\n",
    "        self.linear3 = nn.Linear(20, 10)\n",
    "        self.linear4 = nn.Linear(10, 3)\n",
    "        \n",
    "#         self.sigmoid = nn.Sigmoid()\n",
    "        self.softmax = nn.Softmax(dim=1)\n",
    "        self.relu = nn.ReLU()\n",
    "    \n",
    "    def forward(self, x):\n",
    "        \n",
    "        x = self.linear(x)\n",
    "        x = self.relu(x)\n",
    "        x = self.linear2(x)\n",
    "        x = self.relu(x)\n",
    "        x = self.linear3(x)\n",
    "        x = self.relu(x)\n",
    "        x = self.linear4(x)\n",
    "        x = self.softmax(x)\n",
    "        \n",
    "        return x"
   ]
  },
  {
   "cell_type": "code",
   "execution_count": 262,
   "id": "f589d845-a3ec-4736-a688-8e09208d3bce",
   "metadata": {},
   "outputs": [],
   "source": [
    "class SimpleModel_LOB(nn.Module):\n",
    "    def __init__(self):\n",
    "        \n",
    "        super(SimpleModel_LOB, self).__init__()\n",
    "        \n",
    "        self.linear = nn.Linear(80, 160)\n",
    "        self.linear2 = nn.Linear(160, 100)\n",
    "        self.linear3 = nn.Linear(100, 50)\n",
    "        self.linear4 = nn.Linear(50, 20)\n",
    "        self.linear5 = nn.Linear(20, 3)\n",
    "        \n",
    "#         self.sigmoid = nn.Sigmoid()\n",
    "        self.softmax = nn.Softmax(dim=1)\n",
    "        self.relu = nn.ReLU()\n",
    "    \n",
    "    def forward(self, x):\n",
    "        \n",
    "        x = self.linear(x)\n",
    "        x = self.relu(x)\n",
    "        x = self.linear2(x)\n",
    "        x = self.relu(x)\n",
    "        x = self.linear3(x)\n",
    "        x = self.relu(x)\n",
    "        x = self.linear4(x)\n",
    "        x = self.relu(x)\n",
    "        x = self.linear5(x)\n",
    "        x = self.softmax(x)\n",
    "        \n",
    "        return x"
   ]
  },
  {
   "cell_type": "markdown",
   "id": "75a7c286-0484-40ad-a431-71f0bb71814f",
   "metadata": {
    "jp-MarkdownHeadingCollapsed": true
   },
   "source": [
    "## Training function"
   ]
  },
  {
   "cell_type": "code",
   "execution_count": 354,
   "id": "a10acf77-6dff-4fcf-91d3-56759d50a1a3",
   "metadata": {},
   "outputs": [],
   "source": [
    "def train_nn(model, train_ds, eval_ds, loss_f, n_epoch=1, batch_size=32, learning_rate=0.00001, device='cpu'):\n",
    "    \n",
    "    optimizer = torch.optim.Adam(model.parameters(), lr=learning_rate)\n",
    "    \n",
    "    # general recording\n",
    "    training_loss = []\n",
    "    evaluation_loss = []\n",
    "\n",
    "    training_accuracy = []\n",
    "    evaluation_accuracy = []\n",
    "    \n",
    "    for epoch in trange(n_epoch):\n",
    "\n",
    "        # epoch performance recording\n",
    "        epoch_train_loss = 0\n",
    "        epoch_evaluation_loss = 0\n",
    "\n",
    "        epoch_train_loss = 0\n",
    "        epoch_evaluation_accuracy = 0\n",
    "\n",
    "        epoch_evaluation_accuracy_list = []\n",
    "        \n",
    "        # training cycle\n",
    "        \n",
    "        # data_y = train_df['difference'] + 1\n",
    "        # data_x =  train_df.drop(['difference'], axis=1)\n",
    "        # train_ds = trainDataset(data_x, data_y, device=device)\n",
    "\n",
    "        train_dl = DataLoader(train_ds, batch_size=batch_size, shuffle=False)\n",
    "\n",
    "        model.train()\n",
    "\n",
    "        n_of_iterations = 0\n",
    "        for el in train_dl:\n",
    "                \n",
    "            data = el[0]\n",
    "            target = el[1].squeeze()\n",
    "\n",
    "            y_pred = model(data)\n",
    "            \n",
    "            optimizer.zero_grad()\n",
    "            \n",
    "            loss = loss_f(y_pred, target)\n",
    "\n",
    "            loss.backward()\n",
    "\n",
    "            optimizer.step()\n",
    "\n",
    "            epoch_train_loss += loss\n",
    "            n_of_iterations += 1\n",
    "\n",
    "\n",
    "            if n_of_iterations == 100:\n",
    "                break\n",
    "            \n",
    "        epoch_train_loss = epoch_train_loss/n_of_iterations\n",
    "\n",
    "        # testing cycle\n",
    "        # data_y = eval_df['difference'] + 1\n",
    "        # data_x =  eval_df.drop(['difference'], axis=1)\n",
    "        # eval_ds = trainDataset(data_x, data_y, device=device)\n",
    "\n",
    "        eval_dl = DataLoader(eval_ds, batch_size=data_x.shape[0], shuffle=False)\n",
    "\n",
    "        model.eval()\n",
    "        \n",
    "        for el in eval_dl:\n",
    "                \n",
    "            data = el[0]\n",
    "            target = el[1].squeeze()\n",
    "    \n",
    "            y_pred = model(data)\n",
    "    \n",
    "            loss = loss_f(y_pred, target)\n",
    "            epoch_evaluation_loss = loss\n",
    "\n",
    "            y_classes = torch.argmax(y_pred, dim=1)\n",
    "            epoch_evaluation_accuracy = accuracy_score(y_classes, target)\n",
    "\n",
    "            break\n",
    "\n",
    "        print(f\"epoch {epoch} train loss - {epoch_train_loss}, eval loss - {epoch_evaluation_loss}, accuracy - {round(epoch_evaluation_accuracy, 2)}\")\n",
    "        \n",
    "        training_loss.append(epoch_train_loss)\n",
    "        evaluation_loss.append(epoch_evaluation_loss)\n",
    "        epoch_evaluation_accuracy_list.append(round(epoch_evaluation_accuracy, 2))\n",
    "        "
   ]
  },
  {
   "cell_type": "markdown",
   "id": "8d35d1d7-e126-42b7-aec5-1b1d24a559fe",
   "metadata": {},
   "source": [
    "## Training - only collected features"
   ]
  },
  {
   "cell_type": "code",
   "execution_count": 355,
   "id": "46c023fa-e43e-4a86-97f6-91b8a772559d",
   "metadata": {},
   "outputs": [],
   "source": [
    "train_df_5 = prepare_huge_data(new_huge_data_features[:160], shift=shift_percentage['huge_data'][1][0], percentage=shift_percentage['huge_data'][1][1]).drop(['future_price', 'index', 'dividends', 'price', 'fundamental_v', 'trajectory_number'], axis=1)\n",
    "eval_df_5 = prepare_huge_data(new_huge_data_features[160:], shift=shift_percentage['huge_data'][1][0], percentage=shift_percentage['huge_data'][1][1]).drop(['future_price', 'index', 'dividends', 'price', 'fundamental_v', 'trajectory_number'], axis=1)\n",
    "\n",
    "loss_f = nn.CrossEntropyLoss()"
   ]
  },
  {
   "cell_type": "code",
   "execution_count": 356,
   "id": "5e1ec777-5c81-4459-986d-c350d8a25de8",
   "metadata": {},
   "outputs": [],
   "source": [
    "random.seed(2114)\n",
    "\n",
    "data_y = train_df_5['difference'] + 1\n",
    "data_x =  train_df_5.drop(['difference', 'Unnamed: 0'], axis=1)\n",
    "train_ds = trainDataset(data_x, data_y, device=device)\n",
    "\n",
    "data_y = eval_df_5['difference'] + 1\n",
    "data_x =  eval_df_5.drop(['difference', 'Unnamed: 0'], axis=1)\n",
    "eval_ds = trainDataset(data_x, data_y, device=device)"
   ]
  },
  {
   "cell_type": "markdown",
   "id": "19353b3e-5257-4871-b15c-2e4503f33083",
   "metadata": {},
   "source": [
    "### simple connected nn"
   ]
  },
  {
   "cell_type": "code",
   "execution_count": 366,
   "id": "74aafcfd-3ba0-4289-a4be-b8646d4c398f",
   "metadata": {},
   "outputs": [],
   "source": [
    "random.seed(2114)\n",
    "torch.manual_seed(2114)\n",
    "simple_model = SimpleModel()"
   ]
  },
  {
   "cell_type": "code",
   "execution_count": 367,
   "id": "eb024f2e-bf7d-4562-9bde-9ea40b332189",
   "metadata": {},
   "outputs": [
    {
     "data": {
      "text/plain": [
       "0.17340821027755737"
      ]
     },
     "execution_count": 367,
     "metadata": {},
     "output_type": "execute_result"
    }
   ],
   "source": [
    "simple_model.linear.weight[0][0].item()"
   ]
  },
  {
   "cell_type": "code",
   "execution_count": 368,
   "id": "62fa0147-8a46-45cb-b7fd-82579fd441a8",
   "metadata": {},
   "outputs": [],
   "source": [
    "device='cpu'"
   ]
  },
  {
   "cell_type": "code",
   "execution_count": 369,
   "id": "cf7d0d9f-3c27-4d2a-996b-3d88373a0c10",
   "metadata": {
    "scrolled": true
   },
   "outputs": [
    {
     "name": "stderr",
     "output_type": "stream",
     "text": [
      "  3%|█▍                                          | 1/30 [00:01<00:49,  1.71s/it]"
     ]
    },
    {
     "name": "stdout",
     "output_type": "stream",
     "text": [
      "epoch 0 train loss - 1.1139522790908813, eval loss - 1.1134015321731567, accuracy - 0.32\n"
     ]
    },
    {
     "name": "stderr",
     "output_type": "stream",
     "text": [
      "  7%|██▉                                         | 2/30 [00:03<00:45,  1.63s/it]"
     ]
    },
    {
     "name": "stdout",
     "output_type": "stream",
     "text": [
      "epoch 1 train loss - 1.1074010133743286, eval loss - 1.1081417798995972, accuracy - 0.33\n"
     ]
    },
    {
     "name": "stderr",
     "output_type": "stream",
     "text": [
      " 10%|████▍                                       | 3/30 [00:04<00:43,  1.60s/it]"
     ]
    },
    {
     "name": "stdout",
     "output_type": "stream",
     "text": [
      "epoch 2 train loss - 1.1036977767944336, eval loss - 1.104701280593872, accuracy - 0.33\n"
     ]
    },
    {
     "name": "stderr",
     "output_type": "stream",
     "text": [
      " 13%|█████▊                                      | 4/30 [00:06<00:41,  1.59s/it]"
     ]
    },
    {
     "name": "stdout",
     "output_type": "stream",
     "text": [
      "epoch 3 train loss - 1.1014299392700195, eval loss - 1.1022762060165405, accuracy - 0.34\n"
     ]
    },
    {
     "name": "stderr",
     "output_type": "stream",
     "text": [
      " 17%|███████▎                                    | 5/30 [00:08<00:41,  1.67s/it]"
     ]
    },
    {
     "name": "stdout",
     "output_type": "stream",
     "text": [
      "epoch 4 train loss - 1.099909782409668, eval loss - 1.1004858016967773, accuracy - 0.34\n"
     ]
    },
    {
     "name": "stderr",
     "output_type": "stream",
     "text": [
      " 20%|████████▊                                   | 6/30 [00:09<00:40,  1.67s/it]"
     ]
    },
    {
     "name": "stdout",
     "output_type": "stream",
     "text": [
      "epoch 5 train loss - 1.0987043380737305, eval loss - 1.0989418029785156, accuracy - 0.35\n"
     ]
    },
    {
     "name": "stderr",
     "output_type": "stream",
     "text": [
      " 23%|██████████▎                                 | 7/30 [00:11<00:37,  1.64s/it]"
     ]
    },
    {
     "name": "stdout",
     "output_type": "stream",
     "text": [
      "epoch 6 train loss - 1.097715139389038, eval loss - 1.0976569652557373, accuracy - 0.35\n"
     ]
    },
    {
     "name": "stderr",
     "output_type": "stream",
     "text": [
      " 27%|███████████▋                                | 8/30 [00:13<00:35,  1.62s/it]"
     ]
    },
    {
     "name": "stdout",
     "output_type": "stream",
     "text": [
      "epoch 7 train loss - 1.096885085105896, eval loss - 1.0965176820755005, accuracy - 0.34\n"
     ]
    },
    {
     "name": "stderr",
     "output_type": "stream",
     "text": [
      " 30%|█████████████▏                              | 9/30 [00:14<00:33,  1.61s/it]"
     ]
    },
    {
     "name": "stdout",
     "output_type": "stream",
     "text": [
      "epoch 8 train loss - 1.096172571182251, eval loss - 1.0955067873001099, accuracy - 0.36\n"
     ]
    },
    {
     "name": "stderr",
     "output_type": "stream",
     "text": [
      " 33%|██████████████▎                            | 10/30 [00:16<00:33,  1.66s/it]"
     ]
    },
    {
     "name": "stdout",
     "output_type": "stream",
     "text": [
      "epoch 9 train loss - 1.0953618288040161, eval loss - 1.094382405281067, accuracy - 0.38\n"
     ]
    },
    {
     "name": "stderr",
     "output_type": "stream",
     "text": [
      " 37%|███████████████▊                           | 11/30 [00:18<00:32,  1.70s/it]"
     ]
    },
    {
     "name": "stdout",
     "output_type": "stream",
     "text": [
      "epoch 10 train loss - 1.0947171449661255, eval loss - 1.0936988592147827, accuracy - 0.39\n"
     ]
    },
    {
     "name": "stderr",
     "output_type": "stream",
     "text": [
      " 40%|█████████████████▏                         | 12/30 [00:20<00:31,  1.73s/it]"
     ]
    },
    {
     "name": "stdout",
     "output_type": "stream",
     "text": [
      "epoch 11 train loss - 1.0942599773406982, eval loss - 1.0930793285369873, accuracy - 0.39\n"
     ]
    },
    {
     "name": "stderr",
     "output_type": "stream",
     "text": [
      " 43%|██████████████████▋                        | 13/30 [00:21<00:30,  1.77s/it]"
     ]
    },
    {
     "name": "stdout",
     "output_type": "stream",
     "text": [
      "epoch 12 train loss - 1.0938148498535156, eval loss - 1.092485785484314, accuracy - 0.38\n"
     ]
    },
    {
     "name": "stderr",
     "output_type": "stream",
     "text": [
      " 47%|████████████████████                       | 14/30 [00:23<00:28,  1.80s/it]"
     ]
    },
    {
     "name": "stdout",
     "output_type": "stream",
     "text": [
      "epoch 13 train loss - 1.0933634042739868, eval loss - 1.0919121503829956, accuracy - 0.38\n"
     ]
    },
    {
     "name": "stderr",
     "output_type": "stream",
     "text": [
      " 50%|█████████████████████▌                     | 15/30 [00:25<00:27,  1.81s/it]"
     ]
    },
    {
     "name": "stdout",
     "output_type": "stream",
     "text": [
      "epoch 14 train loss - 1.0928990840911865, eval loss - 1.0913543701171875, accuracy - 0.38\n"
     ]
    },
    {
     "name": "stderr",
     "output_type": "stream",
     "text": [
      " 53%|██████████████████████▉                    | 16/30 [00:27<00:25,  1.84s/it]"
     ]
    },
    {
     "name": "stdout",
     "output_type": "stream",
     "text": [
      "epoch 15 train loss - 1.0924155712127686, eval loss - 1.0907926559448242, accuracy - 0.38\n"
     ]
    },
    {
     "name": "stderr",
     "output_type": "stream",
     "text": [
      " 57%|████████████████████████▎                  | 17/30 [00:29<00:23,  1.79s/it]"
     ]
    },
    {
     "name": "stdout",
     "output_type": "stream",
     "text": [
      "epoch 16 train loss - 1.091904640197754, eval loss - 1.0902107954025269, accuracy - 0.39\n"
     ]
    },
    {
     "name": "stderr",
     "output_type": "stream",
     "text": [
      " 60%|█████████████████████████▊                 | 18/30 [00:31<00:21,  1.82s/it]"
     ]
    },
    {
     "name": "stdout",
     "output_type": "stream",
     "text": [
      "epoch 17 train loss - 1.09136164188385, eval loss - 1.0896106958389282, accuracy - 0.39\n"
     ]
    },
    {
     "name": "stderr",
     "output_type": "stream",
     "text": [
      " 63%|███████████████████████████▏               | 19/30 [00:32<00:20,  1.84s/it]"
     ]
    },
    {
     "name": "stdout",
     "output_type": "stream",
     "text": [
      "epoch 18 train loss - 1.0907782316207886, eval loss - 1.0889928340911865, accuracy - 0.39\n"
     ]
    },
    {
     "name": "stderr",
     "output_type": "stream",
     "text": [
      " 67%|████████████████████████████▋              | 20/30 [00:34<00:17,  1.78s/it]"
     ]
    },
    {
     "name": "stdout",
     "output_type": "stream",
     "text": [
      "epoch 19 train loss - 1.0901447534561157, eval loss - 1.0883381366729736, accuracy - 0.4\n"
     ]
    },
    {
     "name": "stderr",
     "output_type": "stream",
     "text": [
      " 70%|██████████████████████████████             | 21/30 [00:36<00:15,  1.75s/it]"
     ]
    },
    {
     "name": "stdout",
     "output_type": "stream",
     "text": [
      "epoch 20 train loss - 1.089457392692566, eval loss - 1.0876555442810059, accuracy - 0.41\n"
     ]
    },
    {
     "name": "stderr",
     "output_type": "stream",
     "text": [
      " 73%|███████████████████████████████▌           | 22/30 [00:38<00:14,  1.86s/it]"
     ]
    },
    {
     "name": "stdout",
     "output_type": "stream",
     "text": [
      "epoch 21 train loss - 1.0887093544006348, eval loss - 1.0869280099868774, accuracy - 0.42\n"
     ]
    },
    {
     "name": "stderr",
     "output_type": "stream",
     "text": [
      " 77%|████████████████████████████████▉          | 23/30 [00:40<00:12,  1.83s/it]"
     ]
    },
    {
     "name": "stdout",
     "output_type": "stream",
     "text": [
      "epoch 22 train loss - 1.0879043340682983, eval loss - 1.0861477851867676, accuracy - 0.43\n"
     ]
    },
    {
     "name": "stderr",
     "output_type": "stream",
     "text": [
      " 80%|██████████████████████████████████▍        | 24/30 [00:41<00:10,  1.82s/it]"
     ]
    },
    {
     "name": "stdout",
     "output_type": "stream",
     "text": [
      "epoch 23 train loss - 1.0870314836502075, eval loss - 1.0852961540222168, accuracy - 0.44\n"
     ]
    },
    {
     "name": "stderr",
     "output_type": "stream",
     "text": [
      " 83%|███████████████████████████████████▊       | 25/30 [00:43<00:09,  1.84s/it]"
     ]
    },
    {
     "name": "stdout",
     "output_type": "stream",
     "text": [
      "epoch 24 train loss - 1.0860857963562012, eval loss - 1.0843876600265503, accuracy - 0.45\n"
     ]
    },
    {
     "name": "stderr",
     "output_type": "stream",
     "text": [
      " 87%|█████████████████████████████████████▎     | 26/30 [00:46<00:08,  2.19s/it]"
     ]
    },
    {
     "name": "stdout",
     "output_type": "stream",
     "text": [
      "epoch 25 train loss - 1.0850601196289062, eval loss - 1.0834081172943115, accuracy - 0.46\n"
     ]
    },
    {
     "name": "stderr",
     "output_type": "stream",
     "text": [
      " 90%|██████████████████████████████████████▋    | 27/30 [00:48<00:06,  2.05s/it]"
     ]
    },
    {
     "name": "stdout",
     "output_type": "stream",
     "text": [
      "epoch 26 train loss - 1.0839476585388184, eval loss - 1.0823478698730469, accuracy - 0.47\n"
     ]
    },
    {
     "name": "stderr",
     "output_type": "stream",
     "text": [
      " 93%|████████████████████████████████████████▏  | 28/30 [00:50<00:04,  2.03s/it]"
     ]
    },
    {
     "name": "stdout",
     "output_type": "stream",
     "text": [
      "epoch 27 train loss - 1.082740306854248, eval loss - 1.0811930894851685, accuracy - 0.47\n"
     ]
    },
    {
     "name": "stderr",
     "output_type": "stream",
     "text": [
      " 97%|█████████████████████████████████████████▌ | 29/30 [00:52<00:01,  1.93s/it]"
     ]
    },
    {
     "name": "stdout",
     "output_type": "stream",
     "text": [
      "epoch 28 train loss - 1.0814313888549805, eval loss - 1.0800400972366333, accuracy - 0.47\n"
     ]
    },
    {
     "name": "stderr",
     "output_type": "stream",
     "text": [
      "100%|███████████████████████████████████████████| 30/30 [00:53<00:00,  1.80s/it]"
     ]
    },
    {
     "name": "stdout",
     "output_type": "stream",
     "text": [
      "epoch 29 train loss - 1.0800795555114746, eval loss - 1.0788003206253052, accuracy - 0.47\n"
     ]
    },
    {
     "name": "stderr",
     "output_type": "stream",
     "text": [
      "\n"
     ]
    }
   ],
   "source": [
    "train_nn(simple_model, train_ds, eval_ds, loss_f, n_epoch=30, batch_size=32, learning_rate=0.0001, device='cpu')"
   ]
  },
  {
   "cell_type": "markdown",
   "id": "07a52b26-13a0-483d-bebc-e01a43374a5a",
   "metadata": {},
   "source": [
    "## Training - features + LOB"
   ]
  },
  {
   "cell_type": "code",
   "execution_count": 370,
   "id": "c2f2be8a-4b5a-486d-87fb-4639aadce63e",
   "metadata": {},
   "outputs": [],
   "source": [
    "train_df_5 = prepare_huge_data(new_huge_data_features[:160], shift=shift_percentage['huge_data'][1][0], percentage=shift_percentage['huge_data'][1][1]).drop(['future_price', 'index', 'dividends', 'price', 'fundamental_v', 'trajectory_number'], axis=1)\n",
    "eval_df_5 = prepare_huge_data(new_huge_data_features[160:], shift=shift_percentage['huge_data'][1][0], percentage=shift_percentage['huge_data'][1][1]).drop(['future_price', 'index', 'dividends', 'price', 'fundamental_v', 'trajectory_number'], axis=1)\n",
    "\n",
    "loss_f = nn.CrossEntropyLoss()"
   ]
  },
  {
   "cell_type": "code",
   "execution_count": 371,
   "id": "179adfa6-1aed-4dd8-9a85-200c5034a0a2",
   "metadata": {},
   "outputs": [],
   "source": [
    "iteration_indeces = train_df_5['Unnamed: 0'].unique()\n",
    "\n",
    "min_iteration_indeces = min(iteration_indeces)\n",
    "max_iteration_indeces = max(iteration_indeces)"
   ]
  },
  {
   "cell_type": "code",
   "execution_count": 372,
   "id": "4dee0be0-51d3-4942-b51f-44f06c7d4ab2",
   "metadata": {},
   "outputs": [],
   "source": [
    "train_ds = trainDataset_w_LOB(train_df_5.drop(['Unnamed: 0', 'difference'], axis=1), \n",
    "                                  train_df_5['difference'] + 1, min_iteration_indeces, max_iteration_indeces, \n",
    "                                  huge_data_bid, huge_data_ask, device='cpu')\n",
    "\n",
    "eval_ds = trainDataset_w_LOB(eval_df_5.drop(['Unnamed: 0', 'difference'], axis=1), \n",
    "                                  eval_df_5['difference'] + 1, min_iteration_indeces, max_iteration_indeces, \n",
    "                                  huge_data_bid, huge_data_ask, device='cpu')"
   ]
  },
  {
   "cell_type": "markdown",
   "id": "65f6042a-7d03-44b4-8f5a-97cc09ff9c8b",
   "metadata": {},
   "source": [
    "### simple connected nn"
   ]
  },
  {
   "cell_type": "code",
   "execution_count": 383,
   "id": "4450c893-2878-4656-aac1-a400fe408b2b",
   "metadata": {},
   "outputs": [],
   "source": [
    "random.seed(2114)\n",
    "torch.manual_seed(2114)\n",
    "simple_model = SimpleModel_LOB()"
   ]
  },
  {
   "cell_type": "code",
   "execution_count": 384,
   "id": "b451972a-b6ae-4bff-b179-49a3dbcb947c",
   "metadata": {},
   "outputs": [],
   "source": [
    "device='cpu'"
   ]
  },
  {
   "cell_type": "code",
   "execution_count": 385,
   "id": "738fed30-1feb-4f83-9c4c-c52aca17150b",
   "metadata": {},
   "outputs": [
    {
     "name": "stderr",
     "output_type": "stream",
     "text": [
      " 10%|████▍                                       | 1/10 [00:14<02:09, 14.36s/it]"
     ]
    },
    {
     "name": "stdout",
     "output_type": "stream",
     "text": [
      "epoch 0 train loss - 1.1190379858016968, eval loss - 1.1002893447875977, accuracy - 0.35\n"
     ]
    },
    {
     "name": "stderr",
     "output_type": "stream",
     "text": [
      " 20%|████████▊                                   | 2/10 [00:28<01:55, 14.47s/it]"
     ]
    },
    {
     "name": "stdout",
     "output_type": "stream",
     "text": [
      "epoch 1 train loss - 1.1008983850479126, eval loss - 1.1006940603256226, accuracy - 0.35\n"
     ]
    },
    {
     "name": "stderr",
     "output_type": "stream",
     "text": [
      " 30%|█████████████▏                              | 3/10 [00:43<01:41, 14.47s/it]"
     ]
    },
    {
     "name": "stdout",
     "output_type": "stream",
     "text": [
      "epoch 2 train loss - 1.0995776653289795, eval loss - 1.1006536483764648, accuracy - 0.35\n"
     ]
    },
    {
     "name": "stderr",
     "output_type": "stream",
     "text": [
      " 40%|█████████████████▌                          | 4/10 [00:57<01:26, 14.49s/it]"
     ]
    },
    {
     "name": "stdout",
     "output_type": "stream",
     "text": [
      "epoch 3 train loss - 1.098647117614746, eval loss - 1.1006349325180054, accuracy - 0.34\n"
     ]
    },
    {
     "name": "stderr",
     "output_type": "stream",
     "text": [
      " 50%|██████████████████████                      | 5/10 [01:12<01:12, 14.50s/it]"
     ]
    },
    {
     "name": "stdout",
     "output_type": "stream",
     "text": [
      "epoch 4 train loss - 1.0979102849960327, eval loss - 1.1005616188049316, accuracy - 0.35\n"
     ]
    },
    {
     "name": "stderr",
     "output_type": "stream",
     "text": [
      " 60%|██████████████████████████▍                 | 6/10 [01:26<00:57, 14.50s/it]"
     ]
    },
    {
     "name": "stdout",
     "output_type": "stream",
     "text": [
      "epoch 5 train loss - 1.097093105316162, eval loss - 1.1005538702011108, accuracy - 0.35\n"
     ]
    },
    {
     "name": "stderr",
     "output_type": "stream",
     "text": [
      " 70%|██████████████████████████████▊             | 7/10 [01:41<00:43, 14.50s/it]"
     ]
    },
    {
     "name": "stdout",
     "output_type": "stream",
     "text": [
      "epoch 6 train loss - 1.0964385271072388, eval loss - 1.1004797220230103, accuracy - 0.35\n"
     ]
    },
    {
     "name": "stderr",
     "output_type": "stream",
     "text": [
      " 80%|███████████████████████████████████▏        | 8/10 [01:55<00:29, 14.50s/it]"
     ]
    },
    {
     "name": "stdout",
     "output_type": "stream",
     "text": [
      "epoch 7 train loss - 1.0958770513534546, eval loss - 1.1004284620285034, accuracy - 0.35\n"
     ]
    },
    {
     "name": "stderr",
     "output_type": "stream",
     "text": [
      " 90%|███████████████████████████████████████▌    | 9/10 [02:11<00:14, 14.87s/it]"
     ]
    },
    {
     "name": "stdout",
     "output_type": "stream",
     "text": [
      "epoch 8 train loss - 1.095334529876709, eval loss - 1.1003360748291016, accuracy - 0.35\n"
     ]
    },
    {
     "name": "stderr",
     "output_type": "stream",
     "text": [
      "100%|███████████████████████████████████████████| 10/10 [02:26<00:00, 14.63s/it]"
     ]
    },
    {
     "name": "stdout",
     "output_type": "stream",
     "text": [
      "epoch 9 train loss - 1.0948565006256104, eval loss - 1.1003025770187378, accuracy - 0.34\n"
     ]
    },
    {
     "name": "stderr",
     "output_type": "stream",
     "text": [
      "\n"
     ]
    }
   ],
   "source": [
    "train_nn(simple_model, train_ds, eval_ds, loss_f, n_epoch=10, batch_size=32, learning_rate=0.00001, device='cpu')"
   ]
  },
  {
   "cell_type": "code",
   "execution_count": null,
   "id": "0c675963-8b0b-4cca-ae54-5a2f7a7640a2",
   "metadata": {},
   "outputs": [],
   "source": []
  },
  {
   "cell_type": "code",
   "execution_count": null,
   "id": "649620db-8c18-47be-b52e-3a2f25fe4008",
   "metadata": {},
   "outputs": [],
   "source": []
  },
  {
   "cell_type": "code",
   "execution_count": null,
   "id": "3b95cdc2-41b4-40a0-804d-517fca33bbc3",
   "metadata": {},
   "outputs": [],
   "source": []
  },
  {
   "cell_type": "code",
   "execution_count": null,
   "id": "bf2c921e-8d60-4085-8224-4f92782240ea",
   "metadata": {},
   "outputs": [],
   "source": []
  }
 ],
 "metadata": {
  "kernelspec": {
   "display_name": "Python 3 (ipykernel)",
   "language": "python",
   "name": "python3"
  },
  "language_info": {
   "codemirror_mode": {
    "name": "ipython",
    "version": 3
   },
   "file_extension": ".py",
   "mimetype": "text/x-python",
   "name": "python",
   "nbconvert_exporter": "python",
   "pygments_lexer": "ipython3",
   "version": "3.10.14"
  }
 },
 "nbformat": 4,
 "nbformat_minor": 5
}
